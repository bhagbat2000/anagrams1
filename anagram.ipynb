{
 "cells": [
  {
   "cell_type": "code",
   "execution_count": null,
   "metadata": {},
   "outputs": [
    {
     "name": "stdout",
     "output_type": "stream",
     "text": [
      "Enter the first stringbhagbat\n",
      "enter the second stringbhagbat\n",
      "713\n",
      "713\n",
      "these are anagrams \n"
     ]
    }
   ],
   "source": [
    "# -*- coding: utf-8 -*-\n",
    "\"\"\"\n",
    "Created on Wed Mar 25 09:50:50 2020\n",
    "\n",
    "@author: Bhagabat\n",
    "\"\"\"\n",
    "\n",
    "str1 = input(\"Enter the first string\")\n",
    "str2 = input(\"enter the second string\")\n",
    "\n",
    "count1=0\n",
    "i=0\n",
    "while(i<len(str1)):\n",
    "    count1=count1+ord(str1[i])\n",
    "    i=i+1\n",
    "print(count1)\n",
    "count2=0\n",
    "\n",
    "\n",
    "i=0\n",
    "while(i<len(str2)):\n",
    "    count2=count2+ord(str2[i])\n",
    "    i=i+1\n",
    "print(count2)\n",
    "if(count1==count2):\n",
    "    print(\"these are anagrams \")\n",
    "else:\n",
    "    print(\"the are not anagrams\")\n",
    "    \n",
    "#second way\n",
    "str1 = input(\"enter a string\")\n",
    "str2 = input(\"enter another string\")\n",
    "print(sorted(str1))\n",
    "print(sorted(str2))\n",
    "\n",
    "if(sorted(str1)==sorted(str2)):\n",
    "    print(\"These are anagrams\")\n",
    "else:\n",
    "    print(\"these are not anagram\")"
   ]
  },
  {
   "cell_type": "code",
   "execution_count": null,
   "metadata": {},
   "outputs": [],
   "source": []
  }
 ],
 "metadata": {
  "kernelspec": {
   "display_name": "Python 3",
   "language": "python",
   "name": "python3"
  },
  "language_info": {
   "codemirror_mode": {
    "name": "ipython",
    "version": 3
   },
   "file_extension": ".py",
   "mimetype": "text/x-python",
   "name": "python",
   "nbconvert_exporter": "python",
   "pygments_lexer": "ipython3",
   "version": "3.7.1"
  }
 },
 "nbformat": 4,
 "nbformat_minor": 2
}
